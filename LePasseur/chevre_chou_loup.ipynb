{
 "cells": [
  {
   "cell_type": "markdown",
   "metadata": {},
   "source": [
    "# L'énigme du passeur\n",
    "\n",
    "Un brave paysan doit faire traverser la rivière sans sa petite barque à :\n",
    "\n",
    "- sa chèvre 🐐\n",
    "- son loup 🐺\n",
    "- son chou 🥬\n",
    "\n",
    "Mais... \n",
    "\n",
    "1. son frèle esquiffe ne peut emmener qu'un passage en plus de lui-même\n",
    "2. le 🐺ne peut rester seul avec la 🐐(il la mangerait)\n",
    "3. la 🐐 ne peut rester seule avec le 🥬 (elle le mangerait)\n"
   ]
  },
  {
   "cell_type": "markdown",
   "metadata": {},
   "source": [
    "## Résolvons... à la main"
   ]
  },
  {
   "cell_type": "markdown",
   "metadata": {},
   "source": [
    "1. tout le monde est sur la rive gauche : 🐺 🐐 🥬 ~~~~~~~~~\n",
    "2. on fait traverser le 🥬 : 🐺 🐐 ~~~~~~~~~ 🥬 mauvaise idée puisqu'alors le 🐺 mange la 🐐\n",
    "3. on fait traverser la 🐐: 🐺 🥬 ~~~~~~~~~ 🐐, c'est mieux... on peut continuer\n",
    "4. on fait traverser le 🐺: 🥬 ~~~~~~~~~ 🐺 🐐, ici on est sur la rive droite, donc pas de souci\n",
    "5. mais si on tente de faire traverser le 🥬, on va laisser 🐺 et 🐐 seuls...\n",
    "6. on retourne donc vers le 🥬 avec la 🐐: 🥬 🐐 ~~~~~~~~~ 🐺 (on est sur la rive gauche donc pas de souci)\n",
    "7. on fait traverser le 🥬 : 🐐 ~~~~~~~~~ 🐺 🥬\n",
    "8. enfin on retourne chercher la 🐐 : ~~~~~~~~~ 🐺 🥬 🐐et on a terminé !\n"
   ]
  },
  {
   "cell_type": "markdown",
   "metadata": {},
   "source": [
    "On constate une première *difficulté* : le passeur n'apparaît pas explicitement et on doit rajouter l'information de sa position pour garantir que les états présentés sont autorisés (ex. 4, le loup et la chèvre semblent seuls mais en réalité le passeur est là). Il vaudrait donc peut-être mieux modéliser aussi le passeur et le faire apparaître explicitement :\n",
    "\n",
    "- le passeur 🙂\n",
    "\n",
    "Et du coup les étapes présentées précédemment deviennent les suivantes, plus besoin de préciser pourquoi la configuration est interdite ou pas :\n",
    "1. tout le monde est sur la rive gauche : 🐺 🐐 🥬 🙂 ~~~~~~~~~\n",
    "2. on fait traverser le 🥬 : 🐺 🐐 ~~~~~~~~~ 🥬 🙂 **interdit**\n",
    "3. on fait traverser la 🐐: 🐺 🥬 ~~~~~~~~~ 🐐 🙂, c'est mieux... on peut continuer\n",
    "4. on fait traverser le 🐺: 🥬 ~~~~~~~~~ 🐺 🐐 🙂\n",
    "5. mais si on tente de faire traverser le 🥬 : 🥬 🙂 ~~~~~~~~~ 🐺 🐐 **interdit**\n",
    "6. on retourne donc vers le 🥬 avec la 🐐: 🥬 🐐 🙂 ~~~~~~~~~ 🐺\n",
    "7. on fait traverser le 🥬 : 🐐 ~~~~~~~~~ 🐺 🥬 🙂\n",
    "8. enfin on retourne chercher la 🐐 : ~~~~~~~~~ 🐺 🥬 🐐 🙂 et on a terminé !\n"
   ]
  },
  {
   "cell_type": "markdown",
   "metadata": {},
   "source": [
    "## Un programme qui trouve la solution\n",
    "\n",
    "Le but est d'écrire un programme Python qui nous donne une solution ie les différents déplacements pour atteindre l'état final : les 4 protagonistes sur la rive droite. Voyons l'algorithme réalisé pour trouver la solution :\n",
    "\n",
    "1. On part d'un **état** initial des rives qui est `LOUP`, `CHEVRE` et `CHOU`, `PASSEUR` rive gauche, personne rive droite et que l'on peut représenter ou visualiser comme ceci :\n",
    "   `🐺 🐐 🥬 🙂 ~~~~~~~~~`\n",
    "2. Lorsque on a un **état**, on commence par vérifier si cet état n'est pas l'état final. Si oui, on a terminé, sinon on va tester (mentalement pour ne pas ramer pour des prunes) tous les états atteignables à partir de celui là. C'est-à-dire qu'on va essayer de faire traverser un protagoniste (de la rive gauche vers la droite ou de la droite vers la gauche) et vérifier que les règles énoncées sont respectées. De plus, il faut **mémoriser** les différents états pour ne pas rejouer toujours la même chose. \n",
    "3. Si jamais on est dans une impasse c'est-à-dire qu'on ne trouve pas d'état pour continuer à avancer et qu'on n'est pas sur un état final alors on faire marche arrière : on efface la mémoire et on choisit un autre état.\n",
    "\n",
    "### En mode objet\n",
    "\n",
    "Afin d'illustrer les premiers concepts de la programmation orientée objet, nous allons l'utiliser pour modéliser notre problème.\n",
    "\n",
    "Nous allons introduire une entité (le `Passeur` ?) qui va modélisder l'`etat` des rives (qui se trouve sur la rive gauche, qui sur la rive droite)  et une `memoire` pour pouvoir changer *mentalement* d'état en faisant traverser des protagonistes. Voilà un début de code Python pour cette entité :\n",
    "\n",
    "```python\n",
    "class Passeur():\n",
    "    \n",
    "    def __init__(self):\n",
    "        self.memoire = # une liste probablement, au début va contenir l'état initial : tout le monde à gauche\n",
    "        self.etat = # pointe vers le dernier état de la mémoire\n",
    "        \n",
    "    def resoudre(self):\n",
    "        if self.final():\n",
    "            return True\n",
    "        else:\n",
    "            # Parcourir les états à partir de l'état courant :\n",
    "                # si ce nouvel etat est viable :\n",
    "                    # on essaie de continuer à résoudre :\n",
    "                    # si ca se passe bien alors on retourne True\n",
    "                    # sinon on revient en arrière : on oublie le nouvel état calculé\n",
    "            return False # signifiant qu'on est dans une impasse\n",
    "```"
   ]
  },
  {
   "cell_type": "markdown",
   "metadata": {},
   "source": [
    "### Modéliser par des entiers\n",
    "\n",
    "#### Les rives\n",
    "\n",
    "Rive gauche - Rive droite... ouvert - fermé, ce type d'alternance se modélise bien par les entiers 0 et 1. Une des caractéristiques c'est que pour basculer d'un état à un autre il suffit de faire *1 - ...* Ainsi, si `rive` vaut 0 ou 1... pour passer à l'autre rive il suffit de faire `1 - rive`.\n",
    "\n",
    "Nous utiliserons donc deux constantes :"
   ]
  },
  {
   "cell_type": "code",
   "execution_count": 2,
   "metadata": {},
   "outputs": [],
   "source": [
    "GAUCHE = 0\n",
    "DROITE = 1"
   ]
  },
  {
   "cell_type": "markdown",
   "metadata": {},
   "source": [
    "#### Quant est-il des protagonistes ?\n",
    "\n",
    "Nous pourrions manipuler des chaînes de caractères : `'loup'`, `'chèvre'` et `'chou'`... mais là encore, autant utiliser des entiers simples : 0, 1, 2, 3."
   ]
  },
  {
   "cell_type": "code",
   "execution_count": 3,
   "metadata": {},
   "outputs": [],
   "source": [
    "LOUP = 0\n",
    "CHEVRE = 1\n",
    "CHOU = 2\n",
    "PASSEUR = 3"
   ]
  },
  {
   "cell_type": "markdown",
   "metadata": {},
   "source": [
    "Cette modélisation a l'avantage de nous permettre de nous **servir du code de l'objet pour calculer sa représentation**. Ici les 4 caractères unicodes peuvent être stockés dans un tuple dans le bon ordre :"
   ]
  },
  {
   "cell_type": "code",
   "execution_count": 4,
   "metadata": {},
   "outputs": [],
   "source": [
    "DESSINS = ('🐺', '🐐', '🥬', '🙂')"
   ]
  },
  {
   "cell_type": "markdown",
   "metadata": {},
   "source": [
    "Ainsi `DESSINS[LOUP]` me donne le caractère qui représente le loup. \n",
    "\n",
    "#### Règle importante\n",
    "\n",
    "Séparer la modélisation de la représentation ou visualisation est une chose très importante. "
   ]
  },
  {
   "cell_type": "markdown",
   "metadata": {},
   "source": [
    "D'autre part, nous pouvons aussi nous servir de cet ordre pour modéliser l'état des rives la liste : `[GAUCHE, GAUCHE, DROITE, DROITE]` signifie que le personnage ayant l'identifiant 0 (ie le loup) se trouve sur la rive gauche, ainsi que la chèvre, le chou lui est sur la rive droite avec le passeur. Nous pouvons affiner notre classe `Passeur` et nous profitons pour ajouter la méthode qui détermine qu'on a atteint l'état final :\n",
    "\n",
    "```python\n",
    "\n",
    "PROTAGONISTES = (LOUP, CHEVRE, CHOU, PASSEUR)\n",
    "\n",
    "class Passeur():\n",
    "    \n",
    "    def __init__(self):\n",
    "        self.memoire = [[GAUCHE] * len(PROTAGONISTES)]\n",
    "        self.etat = self.memoire[-1]\n",
    "        \n",
    "    def final(self):\n",
    "        return self.etat == [DROITE] * len(PROTAGONISTES)\n",
    "```"
   ]
  },
  {
   "cell_type": "markdown",
   "metadata": {},
   "source": [
    "### Passer à l'état suivant\n",
    "\n",
    "Un état est donc une simple liste de 4 éléments de la forme `[x, y, z, t]` où chacune des variables vaut 0 ou 1. 0 signifiant que le personnage concerné est à GAUCHE, et 1 qu'il est à DROITE. Plus précisemment `x` représente la rive du loup, `y` celle de la chèvre, `z` celle du chou et `t` celle du passeur. Pour passer à un autre état, il suffit de sélectionner un personnage à faire changer de rive. Par exemple, on passe de `[0, 0, 0, 0]` à `[1, 0, 0, 0]` en changeant le loup de rive.\n",
    "\n",
    "Ainsi le `# Parcourir les états à partir de l'état courant :` de notre algorithme se traduit bien par une simple boucle `for` :\n",
    "\n",
    "```python\n",
    "for protagoniste in PROTAGONISTES:\n",
    "    # calculer nouvel état \n",
    "```\n",
    "\n",
    "Et *passer à l'état suivant* consiste à récupérer une copie de l'état courant et d'y faire traverser un protagoniste, c'est-à-dire faire une copie de l'état courant (le dernier mémorisé) dans `self.suivant` puis changer la valeur de la rive pour l'identifiant concerné. De plus, il faut aussi faire traverser le passeur si jamais ce-dernier n'est pas le protagoniste.\n",
    "\n",
    "```python \n",
    "def traverse(self, protagonoiste):\n",
    "    self.suivant = self.etat.copy()\n",
    "    self.suivant[protagoniste] = 1 - self.suivant[protagoniste]\n",
    "    if protagoniste != PASSEUR:\n",
    "        self.suivant[PASSEUR] = 1 - self.suivant[PASSEUR]\n",
    "```\n",
    "\n",
    "Et dans le même esprit, chaque action élémentaire de notre problème doit se modéliser **simplement** avec notre modèle :"
   ]
  },
  {
   "cell_type": "markdown",
   "metadata": {},
   "source": [
    "### Détecter le danger\n",
    "\n",
    "Une fois l'état suivant calculé, il faut que le `Passeur` puisse identifer une situation de danger. Il y a danger si la chèvre et le loup sont du même côté, sans le passeur ou si la chèvre et le chou sont du même côté toujours sans le passeur. Ce qui nous donne avec notre modèle :\n",
    "\n",
    "```python\n",
    "def danger(self):\n",
    "    loup_mange_chevre = self.suivant[CHEVRE] == self.suivant[LOUP] and self.suivant[LOUP] != self.suivant[PASSEUR]\n",
    "    chevre_mange_chou = self.suivant[CHEVRE] == self.suivant[CHOU] and self.suivant[CHEVRE] != self.suivant[PASSEUR]\n",
    "    return loup_mange_chevre or chevre_mange_chou\n",
    "```\n",
    "\n",
    "### Mémoriser\n",
    "\n",
    "Cela consiste à ajouter une copie de `suivant` dans la `memoire` :\n",
    "\n",
    "```python\n",
    "def memoire(self):\n",
    "    self.memoire.append(self.suivant.copy())\n",
    "```\n",
    "\n",
    "### Déjà vu ?\n",
    "\n",
    "Un état est déjà vu s'il fait partie de notre mémoire :\n",
    "\n",
    "```python\n",
    "def deja_vu(self):\n",
    "    return self.suivant in self.memoire\n",
    "```\n",
    "\n",
    "### Avancer ou continuer...\n",
    "\n",
    "Il s'agit de continuer à résoudre ie faire l'appel récursif. Si cet appel retourne `True` alors on retourne `True` sinon on doit oublier notre dernier état pour que la boucle continue avec un nouvel. Si on épuise toute la boucle sans renvoyer `True` c'est que c'est une impasse : on retourne `False`.\n",
    "\n",
    "```python\n",
    "for protagoniste in PROTAGONISTES:\n",
    "    self.traverse(protagoniste)\n",
    "    if not self.danger() and not self.deja_vu():\n",
    "        self.memorise()\n",
    "        if self.resoudre():\n",
    "            return True\n",
    "        else:\n",
    "            self.oublie()\n",
    "return False\n",
    "```\n",
    "\n",
    "### Oublier\n",
    "\n",
    "Il s'agit de repositionner l'`etat` sur l'avant-dernier de la mémoire et de retirer le dernier élément.\n",
    "\n",
    "```python\n",
    "def oublie(self):\n",
    "    self.memoire.pop()\n",
    "    self.etat = self.memoire[-1]\n",
    "```"
   ]
  },
  {
   "cell_type": "markdown",
   "metadata": {},
   "source": [
    "### Afficher la solution\n",
    "\n",
    "Une fois la résolution faite, afficher la solution va consister à parcourir la mémoire et à construire pour chaque configuration rencontrée deux chaines de caractères : la première avec les `DESSINS` des protagonistes qui se trouvent sur la rive `GAUCHE` et une 2e avec ceux de la rive droite.\n",
    "\n",
    "```python\n",
    "def afficher_solution(self):\n",
    "    for config in self.memoire:\n",
    "        rives = ['', '']\n",
    "        for protagoniste in PROTAGONISTES:\n",
    "            rives[config[protagoniste]] += DESSINS[protagoniste]\n",
    "        print(rives[GAUCHE] + ' ~~~~~~~~~ ' + rives[DROITE])\n",
    "```"
   ]
  },
  {
   "cell_type": "markdown",
   "metadata": {},
   "source": [
    "## Le code complet"
   ]
  },
  {
   "cell_type": "code",
   "execution_count": 9,
   "metadata": {},
   "outputs": [
    {
     "name": "stdout",
     "output_type": "stream",
     "text": [
      "🐺🐐🍏🙂 ~~~~~~~~~ \n",
      "🐺🍏 ~~~~~~~~~ 🐐🙂\n",
      "🐺🍏🙂 ~~~~~~~~~ 🐐\n",
      "🍏 ~~~~~~~~~ 🐺🐐🙂\n",
      "🐐🍏🙂 ~~~~~~~~~ 🐺\n",
      "🐐 ~~~~~~~~~ 🐺🍏🙂\n",
      "🐐🙂 ~~~~~~~~~ 🐺🍏\n",
      " ~~~~~~~~~ 🐺🐐🍏🙂\n"
     ]
    }
   ],
   "source": [
    "GAUCHE = 0\n",
    "DROITE = 1\n",
    "\n",
    "LOUP = 0\n",
    "CHEVRE = 1\n",
    "POMME = 2\n",
    "PASSEUR = 3\n",
    "PROTAGONISTES = (LOUP, CHEVRE, POMME, PASSEUR)\n",
    "\n",
    "DESSINS = ('🐺', '🐐', '🍏', '🙂')\n",
    "\n",
    "class Passeur():\n",
    "    def __init__(self):\n",
    "        self.suivant = None\n",
    "        self.memoire = [[GAUCHE] * len(PROTAGONISTES)]\n",
    "        self.etat = self.memoire[-1]\n",
    "\n",
    "\n",
    "    def affiche_solution(self):\n",
    "        for config in self.memoire:\n",
    "            rives = ['', '']\n",
    "            for protagoniste in PROTAGONISTES:\n",
    "                rives[config[protagoniste]] += DESSINS[protagoniste]\n",
    "            print(rives[GAUCHE] + ' ~~~~~~~~~ ' + rives[DROITE])\n",
    "        \n",
    "    def fini(self):\n",
    "        return self.etat == [DROITE] * len(PROTAGONISTES)\n",
    "    \n",
    "    def memorise(self):\n",
    "        self.memoire.append(self.suivant.copy())\n",
    "        self.etat = self.memoire[-1]\n",
    "\n",
    "    def oublie(self):\n",
    "        self.memoire.pop()\n",
    "        self.etat = self.memoire[-1]\n",
    "        \n",
    "    def deja_vu(self):\n",
    "        return self.suivant in self.memoire\n",
    "    \n",
    "    def danger(self):\n",
    "        loup_mange_chevre = self.suivant[CHEVRE] == self.suivant[LOUP] and self.suivant[LOUP] != self.suivant[PASSEUR]\n",
    "        chevre_mange_chou = self.suivant[CHEVRE] == self.suivant[CHOU] and self.suivant[CHEVRE] != self.suivant[PASSEUR]\n",
    "        return loup_mange_chevre or chevre_mange_chou\n",
    "    \n",
    "    def traverse(self, protagoniste):\n",
    "        self.suivant = self.etat.copy()\n",
    "        self.suivant[protagoniste] = 1 - self.suivant[protagoniste]\n",
    "        if protagoniste != PASSEUR:\n",
    "            self.suivant[PASSEUR] = 1 - self.suivant[PASSEUR]\n",
    "        \n",
    "    def resoud(self):\n",
    "        if self.fini():\n",
    "            return True\n",
    "        else:\n",
    "            for protagoniste in PROTAGONISTES:\n",
    "                self.traverse(protagoniste)\n",
    "                if not self.danger() and not self.deja_vu():\n",
    "                    self.memorise()\n",
    "                    if self.resoud():\n",
    "                        return True\n",
    "                    else:\n",
    "                        self.oublie()\n",
    "            return False\n",
    "                \n",
    "seb = Passeur()\n",
    "if seb.resoud():\n",
    "    seb.affiche_solution()\n",
    "else:\n",
    "    print('Pas de solution')"
   ]
  },
  {
   "cell_type": "markdown",
   "metadata": {},
   "source": [
    "## Vos commentaires"
   ]
  },
  {
   "cell_type": "markdown",
   "metadata": {},
   "source": []
  }
 ],
 "metadata": {
  "kernelspec": {
   "display_name": "Python 3",
   "language": "python",
   "name": "python3"
  },
  "language_info": {
   "codemirror_mode": {
    "name": "ipython",
    "version": 3
   },
   "file_extension": ".py",
   "mimetype": "text/x-python",
   "name": "python",
   "nbconvert_exporter": "python",
   "pygments_lexer": "ipython3",
   "version": "3.7.0"
  }
 },
 "nbformat": 4,
 "nbformat_minor": 2
}
